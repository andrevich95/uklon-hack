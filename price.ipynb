{
  "nbformat": 4,
  "nbformat_minor": 0,
  "metadata": {
    "colab": {
      "name": "price.ipynb",
      "provenance": [],
      "collapsed_sections": [],
      "toc_visible": true
    },
    "kernelspec": {
      "name": "python3",
      "display_name": "Python 3"
    },
    "accelerator": "GPU"
  },
  "cells": [
    {
      "cell_type": "code",
      "metadata": {
        "colab": {
          "base_uri": "https://localhost:8080/",
          "height": 35
        },
        "id": "fyBmo45NGoET",
        "outputId": "f5303a0d-e5a8-440a-f236-10f359d503f7"
      },
      "source": [
        "import pathlib\n",
        "\n",
        "import matplotlib.pyplot as plt\n",
        "import pandas as pd\n",
        "import seaborn as sns\n",
        "from datetime import datetime\n",
        "import tensorflow as tf\n",
        "import numpy as np\n",
        "from tensorflow import keras\n",
        "from tensorflow.keras import layers\n",
        "tf.__version__"
      ],
      "execution_count": 1,
      "outputs": [
        {
          "output_type": "execute_result",
          "data": {
            "application/vnd.google.colaboratory.intrinsic+json": {
              "type": "string"
            },
            "text/plain": [
              "'2.3.0'"
            ]
          },
          "metadata": {
            "tags": []
          },
          "execution_count": 1
        }
      ]
    },
    {
      "cell_type": "code",
      "metadata": {
        "id": "Bc9aW7UvIFe8"
      },
      "source": [
        "raw_dataset = pd.read_csv('orders.csv')\n",
        "df = raw_dataset.copy()"
      ],
      "execution_count": 2,
      "outputs": []
    },
    {
      "cell_type": "code",
      "metadata": {
        "id": "E32S_2LmIN3J"
      },
      "source": [
        "parts_of_day = list(map(lambda t: datetime.strptime(t, '%H:%M').time(), \n",
        "                        [\"00:00\", \"06:00\", \"12:00\", \"18:00\", \"23:00\"]))\n",
        "\n",
        "\n",
        "def part_of_day(date, parts):\n",
        "    date = datetime.strptime(date, '%m/%d/%Y %H:%M').time()\n",
        "\n",
        "    if parts_of_day[0] >= date < parts[1]:\n",
        "        return 1\n",
        "\n",
        "    if parts_of_day[1] >= date < parts[2]:\n",
        "        return 2\n",
        "\n",
        "    if parts_of_day[2] >= date < parts[3]:\n",
        "        return 3\n",
        "\n",
        "    return 4\n",
        "\n",
        "def distnace(lat1, lon1, lat2, lon2):\n",
        "  cos_l1 = np.cos(lat1)\n",
        "  cos_l2 = np.cos(lat2)\n",
        "  sin_l1 = np.sin(lat1)\n",
        "  sin_l2 = np.sin(lat2)\n",
        "  delta = lon1 - lon2\n",
        "\n",
        "  y = np.sqrt(np.square(cos_l2 * np.sin(delta)) + np.square(cos_l1 * sin_l2 - sin_l1 * cos_l2 * np.cos(delta)))\n",
        "  x = sin_l1 * sin_l2 + cos_l1 * cos_l2 * np.cos(delta)\n",
        "  return np.arctan2(y, x) * 6372795"
      ],
      "execution_count": 3,
      "outputs": []
    },
    {
      "cell_type": "code",
      "metadata": {
        "id": "zfI51WpQISN0"
      },
      "source": [
        "df[\"distance\"] = distnace(df[\"dropoff_lat\"], df[\"dropoff_lon\"], df[\"pickup_lat\"], df[\"pickup_lon\"])\n",
        "\n",
        "df[\"part_of_day\"] = [ part_of_day(date, parts_of_day) for date in df[\"pickupTime\"] ]\n",
        "part_of_day = df.pop('part_of_day')\n",
        "df[\"night\"] = (part_of_day == 1) * 1.0\n",
        "df[\"morning\"] = (part_of_day == 2) * 1.0\n",
        "df[\"afternoon\"] = (part_of_day == 3) * 1.0\n",
        "df[\"evening\"] = (part_of_day == 4) * 1.0\n",
        "df[\"sqr_distance\"] = df[\"distance\"] ** 2\n",
        "\n",
        "dataset = df[['distance', 'night', 'morning', 'afternoon', 'evening', 'fare']]"
      ],
      "execution_count": 4,
      "outputs": []
    },
    {
      "cell_type": "code",
      "metadata": {
        "id": "zclFqrHppfBk"
      },
      "source": [
        "dataset = dataset.drop([326112, 734967])"
      ],
      "execution_count": 5,
      "outputs": []
    },
    {
      "cell_type": "code",
      "metadata": {
        "id": "VzBhshmPHcCq"
      },
      "source": [
        "train_dataset = dataset.sample(frac=0.8,random_state=2020)\n",
        "test_dataset = dataset.drop(train_dataset.index)"
      ],
      "execution_count": 6,
      "outputs": []
    },
    {
      "cell_type": "code",
      "metadata": {
        "colab": {
          "base_uri": "https://localhost:8080/",
          "height": 391
        },
        "id": "WY-RMVavdKBS",
        "outputId": "467f085e-5c5f-41ae-9f97-9e9159abd4c3"
      },
      "source": [
        "sns.pairplot(train_dataset[[\"distance\", \"fare\"]], diag_kind=\"kde\")"
      ],
      "execution_count": 7,
      "outputs": [
        {
          "output_type": "execute_result",
          "data": {
            "text/plain": [
              "<seaborn.axisgrid.PairGrid at 0x7f73245d22e8>"
            ]
          },
          "metadata": {
            "tags": []
          },
          "execution_count": 7
        },
        {
          "output_type": "display_data",
          "data": {
            "image/png": "[encoded data removed]",
            "text/plain": [
              "<Figure size 360x360 with 6 Axes>"
            ]
          },
          "metadata": {
            "tags": [],
            "needs_background": "light"
          }
        }
      ]
    },
    {
      "cell_type": "code",
      "metadata": {
        "colab": {
          "base_uri": "https://localhost:8080/",
          "height": 204
        },
        "id": "nXpbdvSbdUu4",
        "outputId": "61220a21-6bad-465e-e67c-cebc829f0255"
      },
      "source": [
        "train_stats = train_dataset.describe()\n",
        "train_stats.pop('fare')\n",
        "train_stats = train_stats.transpose()\n",
        "train_stats"
      ],
      "execution_count": 8,
      "outputs": [
        {
          "output_type": "execute_result",
          "data": {
            "text/html": [
              "<div>\n",
              "<style scoped>\n",
              "    .dataframe tbody tr th:only-of-type {\n",
              "        vertical-align: middle;\n",
              "    }\n",
              "\n",
              "    .dataframe tbody tr th {\n",
              "        vertical-align: top;\n",
              "    }\n",
              "\n",
              "    .dataframe thead th {\n",
              "        text-align: right;\n",
              "    }\n",
              "</style>\n",
              "<table border=\"1\" class=\"dataframe\">\n",
              "  <thead>\n",
              "    <tr style=\"text-align: right;\">\n",
              "      <th></th>\n",
              "      <th>count</th>\n",
              "      <th>mean</th>\n",
              "      <th>std</th>\n",
              "      <th>min</th>\n",
              "      <th>25%</th>\n",
              "      <th>50%</th>\n",
              "      <th>75%</th>\n",
              "      <th>max</th>\n",
              "    </tr>\n",
              "  </thead>\n",
              "  <tbody>\n",
              "    <tr>\n",
              "      <th>distance</th>\n",
              "      <td>748246.0</td>\n",
              "      <td>318613.041312</td>\n",
              "      <td>213087.842539</td>\n",
              "      <td>0.0</td>\n",
              "      <td>182354.94154</td>\n",
              "      <td>280695.910347</td>\n",
              "      <td>400103.70517</td>\n",
              "      <td>6.931296e+06</td>\n",
              "    </tr>\n",
              "    <tr>\n",
              "      <th>night</th>\n",
              "      <td>748246.0</td>\n",
              "      <td>0.000740</td>\n",
              "      <td>0.027200</td>\n",
              "      <td>0.0</td>\n",
              "      <td>0.00000</td>\n",
              "      <td>0.000000</td>\n",
              "      <td>0.00000</td>\n",
              "      <td>1.000000e+00</td>\n",
              "    </tr>\n",
              "    <tr>\n",
              "      <th>morning</th>\n",
              "      <td>748246.0</td>\n",
              "      <td>0.108844</td>\n",
              "      <td>0.311443</td>\n",
              "      <td>0.0</td>\n",
              "      <td>0.00000</td>\n",
              "      <td>0.000000</td>\n",
              "      <td>0.00000</td>\n",
              "      <td>1.000000e+00</td>\n",
              "    </tr>\n",
              "    <tr>\n",
              "      <th>afternoon</th>\n",
              "      <td>748246.0</td>\n",
              "      <td>0.235268</td>\n",
              "      <td>0.424166</td>\n",
              "      <td>0.0</td>\n",
              "      <td>0.00000</td>\n",
              "      <td>0.000000</td>\n",
              "      <td>0.00000</td>\n",
              "      <td>1.000000e+00</td>\n",
              "    </tr>\n",
              "    <tr>\n",
              "      <th>evening</th>\n",
              "      <td>748246.0</td>\n",
              "      <td>0.655148</td>\n",
              "      <td>0.475320</td>\n",
              "      <td>0.0</td>\n",
              "      <td>0.00000</td>\n",
              "      <td>1.000000</td>\n",
              "      <td>1.00000</td>\n",
              "      <td>1.000000e+00</td>\n",
              "    </tr>\n",
              "  </tbody>\n",
              "</table>\n",
              "</div>"
            ],
            "text/plain": [
              "              count           mean  ...           75%           max\n",
              "distance   748246.0  318613.041312  ...  400103.70517  6.931296e+06\n",
              "night      748246.0       0.000740  ...       0.00000  1.000000e+00\n",
              "morning    748246.0       0.108844  ...       0.00000  1.000000e+00\n",
              "afternoon  748246.0       0.235268  ...       0.00000  1.000000e+00\n",
              "evening    748246.0       0.655148  ...       1.00000  1.000000e+00\n",
              "\n",
              "[5 rows x 8 columns]"
            ]
          },
          "metadata": {
            "tags": []
          },
          "execution_count": 8
        }
      ]
    },
    {
      "cell_type": "code",
      "metadata": {
        "id": "piLiRwYgd7jP"
      },
      "source": [
        "train_labels = train_dataset.pop('fare')\n",
        "test_labels = test_dataset.pop('fare')"
      ],
      "execution_count": 9,
      "outputs": []
    },
    {
      "cell_type": "code",
      "metadata": {
        "id": "6qrA14d9eFJY"
      },
      "source": [
        "def norm(x):\n",
        "  return (x - train_stats['mean']) / train_stats['std']\n",
        "\n",
        "normed_train_data = norm(train_dataset)\n",
        "normed_test_data = norm(test_dataset)"
      ],
      "execution_count": 10,
      "outputs": []
    },
    {
      "cell_type": "code",
      "metadata": {
        "id": "L1v-iklzeeWl"
      },
      "source": [
        "def build_model():\n",
        "  model = keras.Sequential([\n",
        "    layers.Dense(16, activation='relu', input_shape=[len(train_dataset.keys())]),\n",
        "    layers.Dense(8, activation='relu'),\n",
        "    layers.Dense(4, activation='relu'),\n",
        "    layers.Dense(1)\n",
        "  ])\n",
        "\n",
        "  optimizer = tf.keras.optimizers.Adam(1e-3)\n",
        "\n",
        "  model.compile(loss='mse',\n",
        "                optimizer=optimizer,\n",
        "                metrics=['mae', 'mse'])\n",
        "  return model"
      ],
      "execution_count": 11,
      "outputs": []
    },
    {
      "cell_type": "code",
      "metadata": {
        "colab": {
          "base_uri": "https://localhost:8080/"
        },
        "id": "H4zmhplqeh36",
        "outputId": "6683c260-068f-4c1b-e743-a40bf0f9fc1f"
      },
      "source": [
        "model = build_model()\n",
        "model.summary()"
      ],
      "execution_count": 12,
      "outputs": [
        {
          "output_type": "stream",
          "text": [
            "Model: \"sequential\"\n",
            "_________________________________________________________________\n",
            "Layer (type)                 Output Shape              Param #   \n",
            "=================================================================\n",
            "dense (Dense)                (None, 16)                96        \n",
            "_________________________________________________________________\n",
            "dense_1 (Dense)              (None, 8)                 136       \n",
            "_________________________________________________________________\n",
            "dense_2 (Dense)              (None, 4)                 36        \n",
            "_________________________________________________________________\n",
            "dense_3 (Dense)              (None, 1)                 5         \n",
            "=================================================================\n",
            "Total params: 273\n",
            "Trainable params: 273\n",
            "Non-trainable params: 0\n",
            "_________________________________________________________________\n"
          ],
          "name": "stdout"
        }
      ]
    },
    {
      "cell_type": "code",
      "metadata": {
        "colab": {
          "base_uri": "https://localhost:8080/"
        },
        "id": "CVR2_p4lex_I",
        "outputId": "e2584548-32e3-41bc-88e0-f8b191fca0f1"
      },
      "source": [
        "EPOCHS = 50\n",
        "\n",
        "early_stop = keras.callbacks.EarlyStopping(monitor='val_loss', patience=10)\n",
        "\n",
        "history = model.fit(\n",
        "  normed_train_data, train_labels, batch_size=256,\n",
        "  epochs=EPOCHS, validation_split = 0.2, callbacks=[early_stop])"
      ],
      "execution_count": null,
      "outputs": [
        {
          "output_type": "stream",
          "text": [
            "Epoch 1/50\n",
            "2339/2339 [==============================] - 7s 3ms/step - loss: 20.7031 - mae: 2.7977 - mse: 20.7031 - val_loss: 8.5303 - val_mae: 1.9082 - val_mse: 8.5303\n",
            "Epoch 2/50\n",
            "2339/2339 [==============================] - 7s 3ms/step - loss: 8.7064 - mae: 1.8921 - mse: 8.7064 - val_loss: 8.4688 - val_mae: 1.8828 - val_mse: 8.4688\n",
            "Epoch 3/50\n",
            "2339/2339 [==============================] - 7s 3ms/step - loss: 8.6748 - mae: 1.8898 - mse: 8.6748 - val_loss: 8.4416 - val_mae: 1.8657 - val_mse: 8.4416\n",
            "Epoch 4/50\n",
            "2339/2339 [==============================] - 7s 3ms/step - loss: 8.6413 - mae: 1.8878 - mse: 8.6413 - val_loss: 8.4262 - val_mae: 1.8345 - val_mse: 8.4262\n",
            "Epoch 5/50\n",
            "2339/2339 [==============================] - 7s 3ms/step - loss: 8.5614 - mae: 1.8806 - mse: 8.5614 - val_loss: 8.3397 - val_mae: 1.9117 - val_mse: 8.3397\n",
            "Epoch 6/50\n",
            "2339/2339 [==============================] - 7s 3ms/step - loss: 8.4547 - mae: 1.8709 - mse: 8.4547 - val_loss: 8.2194 - val_mae: 1.8540 - val_mse: 8.2194\n",
            "Epoch 7/50\n",
            "2339/2339 [==============================] - 7s 3ms/step - loss: 8.3862 - mae: 1.8633 - mse: 8.3862 - val_loss: 8.3289 - val_mae: 1.9901 - val_mse: 8.3289\n",
            "Epoch 8/50\n",
            "2339/2339 [==============================] - 7s 3ms/step - loss: 8.3629 - mae: 1.8609 - mse: 8.3629 - val_loss: 8.1941 - val_mae: 1.8482 - val_mse: 8.1941\n",
            "Epoch 9/50\n",
            "2339/2339 [==============================] - 7s 3ms/step - loss: 8.3510 - mae: 1.8591 - mse: 8.3510 - val_loss: 8.1808 - val_mae: 1.8700 - val_mse: 8.1808\n",
            "Epoch 10/50\n",
            "2339/2339 [==============================] - 7s 3ms/step - loss: 8.3392 - mae: 1.8580 - mse: 8.3392 - val_loss: 8.1969 - val_mae: 1.9174 - val_mse: 8.1969\n",
            "Epoch 11/50\n",
            "2339/2339 [==============================] - 7s 3ms/step - loss: 8.3367 - mae: 1.8582 - mse: 8.3367 - val_loss: 8.1699 - val_mae: 1.8604 - val_mse: 8.1699\n",
            "Epoch 12/50\n",
            "2339/2339 [==============================] - 7s 3ms/step - loss: 8.3348 - mae: 1.8572 - mse: 8.3348 - val_loss: 8.1687 - val_mae: 1.8736 - val_mse: 8.1687\n",
            "Epoch 13/50\n",
            "2339/2339 [==============================] - 7s 3ms/step - loss: 8.3312 - mae: 1.8575 - mse: 8.3312 - val_loss: 8.1817 - val_mae: 1.8511 - val_mse: 8.1817\n",
            "Epoch 14/50\n",
            "2339/2339 [==============================] - 7s 3ms/step - loss: 8.3302 - mae: 1.8571 - mse: 8.3302 - val_loss: 8.1832 - val_mae: 1.8947 - val_mse: 8.1832\n",
            "Epoch 15/50\n",
            "2339/2339 [==============================] - 7s 3ms/step - loss: 8.3260 - mae: 1.8568 - mse: 8.3260 - val_loss: 8.1534 - val_mae: 1.8315 - val_mse: 8.1534\n",
            "Epoch 16/50\n",
            "2339/2339 [==============================] - 7s 3ms/step - loss: 8.3280 - mae: 1.8567 - mse: 8.3280 - val_loss: 8.1540 - val_mae: 1.8743 - val_mse: 8.1540\n",
            "Epoch 17/50\n",
            "2339/2339 [==============================] - 7s 3ms/step - loss: 8.3207 - mae: 1.8563 - mse: 8.3207 - val_loss: 8.1495 - val_mae: 1.8625 - val_mse: 8.1495\n",
            "Epoch 18/50\n",
            "2339/2339 [==============================] - 7s 3ms/step - loss: 8.3211 - mae: 1.8565 - mse: 8.3211 - val_loss: 8.1503 - val_mae: 1.8402 - val_mse: 8.1503\n",
            "Epoch 19/50\n",
            "2339/2339 [==============================] - 7s 3ms/step - loss: 8.3194 - mae: 1.8561 - mse: 8.3194 - val_loss: 8.1703 - val_mae: 1.8430 - val_mse: 8.1703\n",
            "Epoch 20/50\n",
            "  88/2339 [>.............................] - ETA: 5s - loss: 8.0431 - mae: 1.8595 - mse: 8.0431"
          ],
          "name": "stdout"
        }
      ]
    },
    {
      "cell_type": "code",
      "metadata": {
        "id": "ynUugJPAhmBL"
      },
      "source": [
        "def plot_history(history):\n",
        "  hist = pd.DataFrame(history.history)\n",
        "  hist['epoch'] = history.epoch\n",
        "\n",
        "  plt.figure()\n",
        "  plt.xlabel('Epoch')\n",
        "  plt.ylabel('Mean Abs Error [fare]')\n",
        "  plt.plot(hist['epoch'], hist['mae'],\n",
        "           label='Train Error')\n",
        "  plt.plot(hist['epoch'], hist['val_mae'],\n",
        "           label = 'Val Error')\n",
        "  plt.ylim([0.75,2])\n",
        "  plt.legend()\n",
        "\n",
        "  plt.figure()\n",
        "  plt.xlabel('Epoch')\n",
        "  plt.ylabel('Mean Square Error [$fare^2$]')\n",
        "  plt.plot(hist['epoch'], hist['mse'],\n",
        "           label='Train Error')\n",
        "  plt.plot(hist['epoch'], hist['val_mse'],\n",
        "           label = 'Val Error')\n",
        "  plt.ylim([7,10])\n",
        "  plt.legend()\n",
        "  plt.show()\n",
        "\n",
        "\n",
        "plot_history(history)"
      ],
      "execution_count": null,
      "outputs": []
    },
    {
      "cell_type": "code",
      "metadata": {
        "id": "KapdT96ciK4B"
      },
      "source": [
        "loss, mae, mse = model.evaluate(normed_test_data, test_labels)"
      ],
      "execution_count": null,
      "outputs": []
    },
    {
      "cell_type": "code",
      "metadata": {
        "id": "WY_KSEkPiZFz"
      },
      "source": [
        "test_predictions = model.predict(normed_test_data).flatten()\n",
        "\n",
        "plt.scatter(test_labels, test_predictions)\n",
        "plt.xlabel('True Values [Fare]')\n",
        "plt.ylabel('Predictions [Fare]')\n",
        "plt.axis('equal')\n",
        "plt.axis('square')\n",
        "plt.xlim([0,plt.xlim()[1]])\n",
        "plt.ylim([0,plt.ylim()[1]])\n",
        "_ = plt.plot([-100, 100], [-100, 100])"
      ],
      "execution_count": null,
      "outputs": []
    },
    {
      "cell_type": "code",
      "metadata": {
        "id": "y_Y__I7fsT7f"
      },
      "source": [
        "error = test_predictions - test_labels\n",
        "plt.hist(error, bins = 25)\n",
        "plt.xlabel(\"Prediction Error [Fare]\")\n",
        "_ = plt.ylabel(\"Count\")"
      ],
      "execution_count": null,
      "outputs": []
    }
  ]
}